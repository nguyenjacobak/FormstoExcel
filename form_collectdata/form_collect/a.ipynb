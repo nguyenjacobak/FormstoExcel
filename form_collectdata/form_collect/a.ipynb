{
 "cells": [
  {
   "cell_type": "code",
   "execution_count": 141,
   "metadata": {},
   "outputs": [],
   "source": [
    "import pandas as pd\n",
    "import os"
   ]
  },
  {
   "cell_type": "code",
   "execution_count": 3,
   "metadata": {},
   "outputs": [],
   "source": [
    "def get_all_councils():\n",
    "    file_path = os.path.join('DataBase', 'db.xlsx')\n",
    "    df = pd.read_excel(file_path, sheet_name=\"DS Hội đồng_DN\", skiprows=2)\n",
    "    df = df.dropna(ignore_index=True)\n",
    "    df = df[df['Họ và tên'] != 'Họ và tên']\n",
    "    df\n",
    "\n",
    "    councils = {}\n",
    "    for i in range(len(df)):\n",
    "        member = df.iloc[i]\n",
    "        name = member['Họ và tên']\n",
    "        role = member['Nhiệm vụ'].replace('\\xa0', '')\n",
    "        unit = member['Đơn vị']\n",
    "        id_council = f\"HD{(i)//5 + 1}\"\n",
    "        if councils.get(id_council) is None:\n",
    "            councils[id_council] = [{\n",
    "                'name': name,\n",
    "                'role': role,\n",
    "                'unit': unit\n",
    "            }]\n",
    "        else:\n",
    "            councils[id_council].append({\n",
    "                'name': name,\n",
    "                'role': role,\n",
    "                'unit': unit\n",
    "            })\n",
    "    return councils"
   ]
  },
  {
   "cell_type": "code",
   "execution_count": 61,
   "metadata": {},
   "outputs": [],
   "source": [
    "def find_student_by_council_and_group_id(council_id=None, group_id=None):\n",
    "    students = []\n",
    "    if group_id is None or council_id is None:\n",
    "        return students\n",
    "    file_path = os.path.join('DataBase', 'db.xlsx')\n",
    "    df2 = pd.read_excel(file_path, sheet_name=\"DS SV các Hội đồng phân PB\", skiprows=1)\n",
    "    df2 = df2.drop(columns = ['Unnamed: 0'])\n",
    "    df2.loc[1, 'Unnamed: 11'] = df2.loc[0, 'Unnamed: 11']\n",
    "    df2.loc[1, 'Unnamed: 12'] = df2.loc[0, 'Unnamed: 12']\n",
    "    df2.loc[1, 'Unnamed: 3'] = 'Tên'\n",
    "    df2.columns = df2.iloc[1]\n",
    "    df2 = df2.dropna(how='all', ignore_index=True)\n",
    "    index_council = find_index_hd_in_excel(df2, council_id)\n",
    "    index_council_next = find_index_hd_in_excel(df2, council_id + 1)\n",
    "    if index_council_next == -1:\n",
    "        index_council_next = len(df2)\n",
    "    df2 = df2.iloc[index_council+2:index_council_next]\n",
    "    df2 = df2.reset_index(drop=True)\n",
    "    for i in range(len(df2)):\n",
    "        df2 = df2.reset_index(drop=True) \n",
    "        if df2.loc[i, 'Nhóm'] == group_id:\n",
    "            students.append(df2.loc[i, 'Mã sinh viên'])\n",
    "    print(\"Students\", students)\n",
    "    return students\n",
    "\n",
    "def find_index_hd_in_excel(df2, id_hd):\n",
    "    for i in range(len(df2)):\n",
    "        if df2.loc[i, 'Mã sinh viên'] == f'Hội đồng {id_hd}':\n",
    "            return i\n",
    "    return -1"
   ]
  },
  {
   "cell_type": "code",
   "execution_count": 56,
   "metadata": {},
   "outputs": [],
   "source": [
    "def get_students_by_project_name(project_name):\n",
    "    file_path = os.path.join('DataBase', 'db.xlsx')\n",
    "    df = pd.read_excel(file_path, sheet_name=\"Danh sách các đồ án \", skiprows=12)\n",
    "    df = df.ffill()\n",
    "\n",
    "    students = []\n",
    "    col = 'Tên đề tài đồ án/ khóa luận tốt nghiệp'\n",
    "    df_students = df[df[col].str.contains(project_name, case=False, regex=True)]\n",
    "    \n",
    "    first_students = list(df_students['Họ và tên'])\n",
    "    second_students = list(df_students['Unnamed: 3'])\n",
    "    fullname_students = [f\"{first} {second}\" for first, second in zip(first_students, second_students)]\n",
    "    msv_students = list(df_students['Mã sinh viên'])\n",
    "    day_of_birth_students = list(df_students['Năm sinh'])\n",
    "    class_students = list(df_students['Lớp'])\n",
    "    for i in range(len(fullname_students)):\n",
    "        students.append({\n",
    "            'fullname': fullname_students[i],\n",
    "            'msv': msv_students[i],\n",
    "            'day_of_birth': day_of_birth_students[i],\n",
    "            'class': class_students[i]\n",
    "        })\n",
    "    return students"
   ]
  },
  {
   "cell_type": "code",
   "execution_count": 63,
   "metadata": {},
   "outputs": [
    {
     "name": "stdout",
     "output_type": "stream",
     "text": [
      "Students ['B20DCDT028', 'B20DCDT104', 'B20DCDT187', 'B20DCDT215', 'B20DCDT005']\n",
      "A ['B20DCDT028', 'B20DCDT104', 'B20DCDT187', 'B20DCDT215', 'B20DCDT005']\n"
     ]
    }
   ],
   "source": [
    "print('A', find_student_by_council_and_group_id(5, 1))"
   ]
  },
  {
   "cell_type": "code",
   "execution_count": 57,
   "metadata": {},
   "outputs": [
    {
     "name": "stderr",
     "output_type": "stream",
     "text": [
      "C:\\Users\\xin chao\\AppData\\Local\\Temp\\ipykernel_14812\\4292890001.py:8: UserWarning: This pattern is interpreted as a regular expression, and has match groups. To actually get the groups, use str.extract.\n",
      "  df_students = df[df[col].str.contains(project_name, case=False, regex=True)]\n",
      "C:\\Users\\xin chao\\AppData\\Local\\Temp\\ipykernel_14812\\4292890001.py:8: UserWarning: This pattern is interpreted as a regular expression, and has match groups. To actually get the groups, use str.extract.\n",
      "  df_students = df[df[col].str.contains(project_name, case=False, regex=True)]\n"
     ]
    }
   ],
   "source": [
    "# file_path = os.path.join('DataBase', 'db.xlsx')\n",
    "# df2 = pd.read_excel(file_path, sheet_name=\"DS SV các Hội đồng phân PB\", skiprows=1)\n",
    "# df2 = df2.drop(columns = ['Unnamed: 0'])\n",
    "# df2.loc[1, 'Unnamed: 11'] = df2.loc[0, 'Unnamed: 11']\n",
    "# df2.loc[1, 'Unnamed: 12'] = df2.loc[0, 'Unnamed: 12']\n",
    "# df2.loc[1, 'Unnamed: 3'] = 'Tên'\n",
    "# df2.columns = df2.iloc[1]\n",
    "# df2 = df2.dropna(how='all', ignore_index=True)\n",
    "# councils = get_all_councils()\n",
    "# id_council = 'HD1'\n",
    "# students = {\n",
    "# }\n",
    "# for i in range(len(df2)):\n",
    "#     msv = df2.loc[i, 'Mã sinh viên']\n",
    "#     if 'Hội đồng' in msv:\n",
    "#         tmp = msv.split(' ')\n",
    "#         id_council = f\"HD{tmp[-1]}\"\n",
    "#         continue\n",
    "#     if msv == 'Mã sinh viên':\n",
    "#         continue\n",
    "#     name = df2.loc[i, 'Họ và tên'] + ' ' + df2.loc[i, 'Tên']\n",
    "#     day_of_birth = df2.loc[i, 'Năm sinh']\n",
    "#     class_name = df2.loc[i, 'Lớp']\n",
    "#     instructor = df2.loc[i, 'Giáo viên hướng dẫn']\n",
    "#     subject = df2.loc[i, 'Bộ môn ']\n",
    "#     project = df2.loc[i, 'Tên đề tài đồ án/ khóa luận tốt nghiệp']\n",
    "#     project_type = df2.loc[i, 'Loại đồ án']\n",
    "#     group = id_council + ' - ' + str(df2.loc[i, 'Nhóm']) if not pd.isnull(df2.loc[i, 'Nhóm']) else ''\n",
    "#     opponent = df2.loc[i, 'Phản biện  (Khoa)'] if not pd.isna(df2.loc[i, 'Phản biện  (Khoa)']) else ''\n",
    "#     council = councils[id_council]\n",
    "#     students[msv] = {\n",
    "#         'name': name,\n",
    "#         'day_of_birth': day_of_birth,\n",
    "#         'class_name': class_name,\n",
    "#         'instructor': instructor,\n",
    "#         'subject': subject,\n",
    "#         'project': project,\n",
    "#         'project_type': project_type,\n",
    "#         'group': group,\n",
    "#         'opponent': opponent,\n",
    "#         'council': council,\n",
    "#         'msv': msv\n",
    "#     }\n",
    "#     # Get students from final sheet\n",
    "# new_students = students.copy()\n",
    "# for msv in students.keys():\n",
    "#     student = students[msv]\n",
    "#     if student['project'] == 'None':\n",
    "#         continue\n",
    "#     project_name = student['project']\n",
    "#     students_same_project = get_students_by_project_name(project_name)\n",
    "#     for std in students_same_project:\n",
    "#         msv_std = std['msv']\n",
    "#         if msv_std not in students.keys():\n",
    "#             fullname = std['fullname']\n",
    "#             day_of_birth = std['day_of_birth']\n",
    "#             class_name = std['class']\n",
    "\n",
    "#             new_students[msv_std] = students[msv].copy()\n",
    "#             new_students[msv_std]['msv'] = msv_std\n",
    "#             new_students[msv_std]['name'] = fullname\n",
    "#             new_students[msv_std]['day_of_birth'] = day_of_birth\n",
    "#             new_students[msv_std]['class_name'] = class_name\n"
   ]
  },
  {
   "cell_type": "code",
   "execution_count": null,
   "metadata": {},
   "outputs": [],
   "source": [
    "# import json\n",
    "# with open('students.json', 'w', encoding='utf-8') as f:\n",
    "#     json.dump(new_students, f, ensure_ascii=False, indent=4)\n",
    "\n",
    "    "
   ]
  }
 ],
 "metadata": {
  "kernelspec": {
   "display_name": "Python 3",
   "language": "python",
   "name": "python3"
  },
  "language_info": {
   "codemirror_mode": {
    "name": "ipython",
    "version": 3
   },
   "file_extension": ".py",
   "mimetype": "text/x-python",
   "name": "python",
   "nbconvert_exporter": "python",
   "pygments_lexer": "ipython3",
   "version": "3.10.0"
  }
 },
 "nbformat": 4,
 "nbformat_minor": 2
}
